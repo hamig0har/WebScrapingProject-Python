{
  "nbformat": 4,
  "nbformat_minor": 0,
  "metadata": {
    "colab": {
      "provenance": [],
      "authorship_tag": "ABX9TyNnsrB0GRD4G+ZhcOKdrJq2",
      "include_colab_link": true
    },
    "kernelspec": {
      "name": "python3",
      "display_name": "Python 3"
    },
    "language_info": {
      "name": "python"
    }
  },
  "cells": [
    {
      "cell_type": "markdown",
      "metadata": {
        "id": "view-in-github",
        "colab_type": "text"
      },
      "source": [
        "<a href=\"https://colab.research.google.com/github/hamig0har/WebScrapingProject-Python/blob/main/AmazonWebScraping.ipynb\" target=\"_parent\"><img src=\"https://colab.research.google.com/assets/colab-badge.svg\" alt=\"Open In Colab\"/></a>"
      ]
    },
    {
      "cell_type": "markdown",
      "source": [
        "**Step 1: Import Libraries and Set Up Logging**"
      ],
      "metadata": {
        "id": "IXcy4TT5jy-F"
      }
    },
    {
      "cell_type": "code",
      "execution_count": 13,
      "metadata": {
        "id": "qD6mC6zn6-YJ"
      },
      "outputs": [],
      "source": [
        "import logging\n",
        "from bs4 import BeautifulSoup\n",
        "import requests\n",
        "import smtplib\n",
        "import time\n",
        "import datetime\n",
        "import pandas as pd"
      ]
    },
    {
      "cell_type": "code",
      "source": [
        "# Set up logging\n",
        "logging.basicConfig(filename='amazon_scraper.log',\n",
        "                    level=logging.INFO,\n",
        "                    format='%(asctime)s:%(levelname)s:%(message)s')"
      ],
      "metadata": {
        "id": "MtDPqRAv7fOy"
      },
      "execution_count": 14,
      "outputs": []
    },
    {
      "cell_type": "markdown",
      "source": [
        "**Step 2: Define the URL and Headers**"
      ],
      "metadata": {
        "id": "PzhU5kFOkLgO"
      }
    },
    {
      "cell_type": "code",
      "source": [
        "# Define the URL and headers\n",
        "URL = 'https://www.amazon.com/RDX-Sparring-Training-Kickboxing-Punching/dp/B08MWQT29F/ref=sr_1_5?crid=32XFL0QCWQEYZ&dib=eyJ2IjoiMSJ9.9UKI4CjFVBWiYgFoNsl2skhA8RAF2EGs-slU94V-At2jtLqyh_S4n95zFK55ho-tdCBePd9iDCodNdxZF0trT7PNX4s6s9jhKy17b5MLoT59KdmBjkpNuVwBH_4-HXsW7UGy7E5acl2N2c5l9CX94M7G_69-StXbFwUV9sRg0wUZzbV-PE8vPBVq6FiuZXXmufaLUhSRNSo3jhxvnIuYDSWyqVz0ipn9AaUAATTROVWWV78m_GVtEbHzum_0uBG22a2tkrox-EF4pOH1TOaKlQ7I6VzNElJG3RgCttyOzEM.NEeEWRfGEKOWqXdMnoKWohoOYK_SgcsBHXuLFUSdDwA&dib_tag=se&keywords=boxing+gloves&qid=1724461829&sprefix=boxin%2Caps%2C151&sr=8-5'\n",
        "\n",
        "headers = {\"User-Agent\": \"Mozilla/5.0 (Windows NT 10.0; Win64; x64) AppleWebKit/537.36 (KHTML, like Gecko) Chrome/127.0.0.0 Safari/537.36\"}\n"
      ],
      "metadata": {
        "id": "_kW-6uyM8udw"
      },
      "execution_count": 15,
      "outputs": []
    },
    {
      "cell_type": "markdown",
      "source": [
        "**Step 3: Define the Function to Fetch Page Content with Error Handling**"
      ],
      "metadata": {
        "id": "I4V208gckTHC"
      }
    },
    {
      "cell_type": "code",
      "source": [
        "def get_page_content(url, headers):\n",
        "    try:\n",
        "        response = requests.get(url, headers=headers)\n",
        "        response.raise_for_status()  # Raises an HTTPError if the HTTP request returned an unsuccessful status code\n",
        "        logging.info(\"Successfully fetched the page content.\")\n",
        "        return response.content\n",
        "    except requests.exceptions.HTTPError as errh:\n",
        "        logging.error(f\"HTTP Error: {errh}\")\n",
        "    except requests.exceptions.ConnectionError as errc:\n",
        "        logging.error(f\"Error Connecting: {errc}\")\n",
        "    except requests.exceptions.Timeout as errt:\n",
        "        logging.error(f\"Timeout Error: {errt}\")\n",
        "    except requests.exceptions.RequestException as err:\n",
        "        logging.error(f\"An error occurred: {err}\")\n"
      ],
      "metadata": {
        "id": "FSeejWug_8PJ"
      },
      "execution_count": 16,
      "outputs": []
    },
    {
      "cell_type": "markdown",
      "source": [
        "**Step 4: Define the Function to Parse the Content**"
      ],
      "metadata": {
        "id": "Idem0AcwkY4D"
      }
    },
    {
      "cell_type": "code",
      "source": [
        "def parse_content(page_content):\n",
        "    try:\n",
        "        soup1 = BeautifulSoup(page_content, \"html.parser\")\n",
        "        soup2 = BeautifulSoup(soup1.prettify(), \"html.parser\")\n",
        "        title = soup2.find(id='productTitle').get_text(strip=True)\n",
        "        price = soup2.find(\"span\", {\"class\": \"a-price-whole\"}).get_text(strip=True) + \\\n",
        "                soup2.find(\"span\", {\"class\": \"a-price-fraction\"}).get_text(strip=True)\n",
        "        logging.info(f\"Successfully parsed the content: {title}, {price}\")\n",
        "        return title, price\n",
        "    except AttributeError as e:\n",
        "        logging.error(f\"AttributeError: {e}\")\n",
        "    except Exception as e:\n",
        "        logging.error(f\"An unexpected error occurred while parsing content: {e}\")\n"
      ],
      "metadata": {
        "id": "EvT3_Vbt_6H7"
      },
      "execution_count": 17,
      "outputs": []
    },
    {
      "cell_type": "markdown",
      "source": [
        "**Step 5: Define the Function to Save Data to CSV**"
      ],
      "metadata": {
        "id": "gjCBNtPpkgLr"
      }
    },
    {
      "cell_type": "code",
      "source": [
        "def save_to_csv(title, price, today):\n",
        "    header = ['Title', 'Price', 'Date']\n",
        "    data = [title, price, today]\n",
        "    try:\n",
        "        with open('AmazonBoxingGloveDataset.csv', 'a+', newline='', encoding='UTF8') as f:\n",
        "            writer = csv.writer(f)\n",
        "            writer.writerow(data)\n",
        "        logging.info(\"Data successfully saved to CSV.\")\n",
        "    except Exception as e:\n",
        "        logging.error(f\"Failed to save data to CSV: {e}\")\n",
        "\n"
      ],
      "metadata": {
        "id": "JqY3EER2_8Sb"
      },
      "execution_count": 18,
      "outputs": []
    },
    {
      "cell_type": "markdown",
      "source": [
        "**Step 6: Define the Main Function to Check the Price**"
      ],
      "metadata": {
        "id": "24K2JWUAkuLq"
      }
    },
    {
      "cell_type": "code",
      "source": [
        "def check_price():\n",
        "    page_content = get_page_content(URL, headers)\n",
        "    if page_content:\n",
        "        title, price = parse_content(page_content)\n",
        "        if title and price:\n",
        "            today = datetime.date.today()\n",
        "            save_to_csv(title, price, today)\n"
      ],
      "metadata": {
        "id": "xRhvf4Ub_8Ug"
      },
      "execution_count": 19,
      "outputs": []
    },
    {
      "cell_type": "markdown",
      "source": [
        "**Step 7: Run the Scraper in a Loop**"
      ],
      "metadata": {
        "id": "cOxrLl5Ek0bM"
      }
    },
    {
      "cell_type": "code",
      "source": [
        "while(True):\n",
        "    check_price()\n",
        "    time.sleep(90000)  # Sleep for a set amount of time before running again\n"
      ],
      "metadata": {
        "colab": {
          "base_uri": "https://localhost:8080/",
          "height": 176
        },
        "id": "9gV5zre8_8XH",
        "outputId": "b038eca8-0d60-4052-b1f8-db1abeab34ce"
      },
      "execution_count": 20,
      "outputs": [
        {
          "output_type": "error",
          "ename": "KeyboardInterrupt",
          "evalue": "",
          "traceback": [
            "\u001b[0;31m---------------------------------------------------------------------------\u001b[0m",
            "\u001b[0;31mKeyboardInterrupt\u001b[0m                         Traceback (most recent call last)",
            "\u001b[0;32m<ipython-input-20-5491c9bc8dff>\u001b[0m in \u001b[0;36m<cell line: 1>\u001b[0;34m()\u001b[0m\n\u001b[1;32m      1\u001b[0m \u001b[0;32mwhile\u001b[0m\u001b[0;34m(\u001b[0m\u001b[0;32mTrue\u001b[0m\u001b[0;34m)\u001b[0m\u001b[0;34m:\u001b[0m\u001b[0;34m\u001b[0m\u001b[0;34m\u001b[0m\u001b[0m\n\u001b[1;32m      2\u001b[0m     \u001b[0mcheck_price\u001b[0m\u001b[0;34m(\u001b[0m\u001b[0;34m)\u001b[0m\u001b[0;34m\u001b[0m\u001b[0;34m\u001b[0m\u001b[0m\n\u001b[0;32m----> 3\u001b[0;31m     \u001b[0mtime\u001b[0m\u001b[0;34m.\u001b[0m\u001b[0msleep\u001b[0m\u001b[0;34m(\u001b[0m\u001b[0;36m90000\u001b[0m\u001b[0;34m)\u001b[0m  \u001b[0;31m# Sleep for a set amount of time before running again\u001b[0m\u001b[0;34m\u001b[0m\u001b[0;34m\u001b[0m\u001b[0m\n\u001b[0m",
            "\u001b[0;31mKeyboardInterrupt\u001b[0m: "
          ]
        }
      ]
    },
    {
      "cell_type": "markdown",
      "source": [
        "**Step 8: (Optional) Read the Data from CSV**"
      ],
      "metadata": {
        "id": "i8Yctw9sk9xG"
      }
    },
    {
      "cell_type": "code",
      "source": [
        "# Check the saved data\n",
        "pd.read_csv('AmazonBoxingGloveDataset.csv')\n"
      ],
      "metadata": {
        "colab": {
          "base_uri": "https://localhost:8080/",
          "height": 175
        },
        "id": "59AaQVe4_8a1",
        "outputId": "3c0bce11-61d9-4ec4-87b8-93120815d0c6"
      },
      "execution_count": 21,
      "outputs": [
        {
          "output_type": "execute_result",
          "data": {
            "text/plain": [
              "                                               Title  Price        Date\n",
              "0  RDX Boxing Gloves Men Women, Pro Training Spar...  35.97  2024-08-24\n",
              "1  RDX Boxing Gloves Men Women, Pro Training Spar...  35.97  2024-08-24\n",
              "2  RDX Boxing Gloves Men Women, Pro Training Spar...  35.97  2024-08-24\n",
              "3  RDX Boxing Gloves Men Women, Pro Training Spar...  35.97  2024-08-24"
            ],
            "text/html": [
              "\n",
              "  <div id=\"df-996c020f-f337-4238-8c44-c87fa35a14e3\" class=\"colab-df-container\">\n",
              "    <div>\n",
              "<style scoped>\n",
              "    .dataframe tbody tr th:only-of-type {\n",
              "        vertical-align: middle;\n",
              "    }\n",
              "\n",
              "    .dataframe tbody tr th {\n",
              "        vertical-align: top;\n",
              "    }\n",
              "\n",
              "    .dataframe thead th {\n",
              "        text-align: right;\n",
              "    }\n",
              "</style>\n",
              "<table border=\"1\" class=\"dataframe\">\n",
              "  <thead>\n",
              "    <tr style=\"text-align: right;\">\n",
              "      <th></th>\n",
              "      <th>Title</th>\n",
              "      <th>Price</th>\n",
              "      <th>Date</th>\n",
              "    </tr>\n",
              "  </thead>\n",
              "  <tbody>\n",
              "    <tr>\n",
              "      <th>0</th>\n",
              "      <td>RDX Boxing Gloves Men Women, Pro Training Spar...</td>\n",
              "      <td>35.97</td>\n",
              "      <td>2024-08-24</td>\n",
              "    </tr>\n",
              "    <tr>\n",
              "      <th>1</th>\n",
              "      <td>RDX Boxing Gloves Men Women, Pro Training Spar...</td>\n",
              "      <td>35.97</td>\n",
              "      <td>2024-08-24</td>\n",
              "    </tr>\n",
              "    <tr>\n",
              "      <th>2</th>\n",
              "      <td>RDX Boxing Gloves Men Women, Pro Training Spar...</td>\n",
              "      <td>35.97</td>\n",
              "      <td>2024-08-24</td>\n",
              "    </tr>\n",
              "    <tr>\n",
              "      <th>3</th>\n",
              "      <td>RDX Boxing Gloves Men Women, Pro Training Spar...</td>\n",
              "      <td>35.97</td>\n",
              "      <td>2024-08-24</td>\n",
              "    </tr>\n",
              "  </tbody>\n",
              "</table>\n",
              "</div>\n",
              "    <div class=\"colab-df-buttons\">\n",
              "\n",
              "  <div class=\"colab-df-container\">\n",
              "    <button class=\"colab-df-convert\" onclick=\"convertToInteractive('df-996c020f-f337-4238-8c44-c87fa35a14e3')\"\n",
              "            title=\"Convert this dataframe to an interactive table.\"\n",
              "            style=\"display:none;\">\n",
              "\n",
              "  <svg xmlns=\"http://www.w3.org/2000/svg\" height=\"24px\" viewBox=\"0 -960 960 960\">\n",
              "    <path d=\"M120-120v-720h720v720H120Zm60-500h600v-160H180v160Zm220 220h160v-160H400v160Zm0 220h160v-160H400v160ZM180-400h160v-160H180v160Zm440 0h160v-160H620v160ZM180-180h160v-160H180v160Zm440 0h160v-160H620v160Z\"/>\n",
              "  </svg>\n",
              "    </button>\n",
              "\n",
              "  <style>\n",
              "    .colab-df-container {\n",
              "      display:flex;\n",
              "      gap: 12px;\n",
              "    }\n",
              "\n",
              "    .colab-df-convert {\n",
              "      background-color: #E8F0FE;\n",
              "      border: none;\n",
              "      border-radius: 50%;\n",
              "      cursor: pointer;\n",
              "      display: none;\n",
              "      fill: #1967D2;\n",
              "      height: 32px;\n",
              "      padding: 0 0 0 0;\n",
              "      width: 32px;\n",
              "    }\n",
              "\n",
              "    .colab-df-convert:hover {\n",
              "      background-color: #E2EBFA;\n",
              "      box-shadow: 0px 1px 2px rgba(60, 64, 67, 0.3), 0px 1px 3px 1px rgba(60, 64, 67, 0.15);\n",
              "      fill: #174EA6;\n",
              "    }\n",
              "\n",
              "    .colab-df-buttons div {\n",
              "      margin-bottom: 4px;\n",
              "    }\n",
              "\n",
              "    [theme=dark] .colab-df-convert {\n",
              "      background-color: #3B4455;\n",
              "      fill: #D2E3FC;\n",
              "    }\n",
              "\n",
              "    [theme=dark] .colab-df-convert:hover {\n",
              "      background-color: #434B5C;\n",
              "      box-shadow: 0px 1px 3px 1px rgba(0, 0, 0, 0.15);\n",
              "      filter: drop-shadow(0px 1px 2px rgba(0, 0, 0, 0.3));\n",
              "      fill: #FFFFFF;\n",
              "    }\n",
              "  </style>\n",
              "\n",
              "    <script>\n",
              "      const buttonEl =\n",
              "        document.querySelector('#df-996c020f-f337-4238-8c44-c87fa35a14e3 button.colab-df-convert');\n",
              "      buttonEl.style.display =\n",
              "        google.colab.kernel.accessAllowed ? 'block' : 'none';\n",
              "\n",
              "      async function convertToInteractive(key) {\n",
              "        const element = document.querySelector('#df-996c020f-f337-4238-8c44-c87fa35a14e3');\n",
              "        const dataTable =\n",
              "          await google.colab.kernel.invokeFunction('convertToInteractive',\n",
              "                                                    [key], {});\n",
              "        if (!dataTable) return;\n",
              "\n",
              "        const docLinkHtml = 'Like what you see? Visit the ' +\n",
              "          '<a target=\"_blank\" href=https://colab.research.google.com/notebooks/data_table.ipynb>data table notebook</a>'\n",
              "          + ' to learn more about interactive tables.';\n",
              "        element.innerHTML = '';\n",
              "        dataTable['output_type'] = 'display_data';\n",
              "        await google.colab.output.renderOutput(dataTable, element);\n",
              "        const docLink = document.createElement('div');\n",
              "        docLink.innerHTML = docLinkHtml;\n",
              "        element.appendChild(docLink);\n",
              "      }\n",
              "    </script>\n",
              "  </div>\n",
              "\n",
              "\n",
              "<div id=\"df-4977b251-d2c5-4062-ab1c-8dfa1a734da7\">\n",
              "  <button class=\"colab-df-quickchart\" onclick=\"quickchart('df-4977b251-d2c5-4062-ab1c-8dfa1a734da7')\"\n",
              "            title=\"Suggest charts\"\n",
              "            style=\"display:none;\">\n",
              "\n",
              "<svg xmlns=\"http://www.w3.org/2000/svg\" height=\"24px\"viewBox=\"0 0 24 24\"\n",
              "     width=\"24px\">\n",
              "    <g>\n",
              "        <path d=\"M19 3H5c-1.1 0-2 .9-2 2v14c0 1.1.9 2 2 2h14c1.1 0 2-.9 2-2V5c0-1.1-.9-2-2-2zM9 17H7v-7h2v7zm4 0h-2V7h2v10zm4 0h-2v-4h2v4z\"/>\n",
              "    </g>\n",
              "</svg>\n",
              "  </button>\n",
              "\n",
              "<style>\n",
              "  .colab-df-quickchart {\n",
              "      --bg-color: #E8F0FE;\n",
              "      --fill-color: #1967D2;\n",
              "      --hover-bg-color: #E2EBFA;\n",
              "      --hover-fill-color: #174EA6;\n",
              "      --disabled-fill-color: #AAA;\n",
              "      --disabled-bg-color: #DDD;\n",
              "  }\n",
              "\n",
              "  [theme=dark] .colab-df-quickchart {\n",
              "      --bg-color: #3B4455;\n",
              "      --fill-color: #D2E3FC;\n",
              "      --hover-bg-color: #434B5C;\n",
              "      --hover-fill-color: #FFFFFF;\n",
              "      --disabled-bg-color: #3B4455;\n",
              "      --disabled-fill-color: #666;\n",
              "  }\n",
              "\n",
              "  .colab-df-quickchart {\n",
              "    background-color: var(--bg-color);\n",
              "    border: none;\n",
              "    border-radius: 50%;\n",
              "    cursor: pointer;\n",
              "    display: none;\n",
              "    fill: var(--fill-color);\n",
              "    height: 32px;\n",
              "    padding: 0;\n",
              "    width: 32px;\n",
              "  }\n",
              "\n",
              "  .colab-df-quickchart:hover {\n",
              "    background-color: var(--hover-bg-color);\n",
              "    box-shadow: 0 1px 2px rgba(60, 64, 67, 0.3), 0 1px 3px 1px rgba(60, 64, 67, 0.15);\n",
              "    fill: var(--button-hover-fill-color);\n",
              "  }\n",
              "\n",
              "  .colab-df-quickchart-complete:disabled,\n",
              "  .colab-df-quickchart-complete:disabled:hover {\n",
              "    background-color: var(--disabled-bg-color);\n",
              "    fill: var(--disabled-fill-color);\n",
              "    box-shadow: none;\n",
              "  }\n",
              "\n",
              "  .colab-df-spinner {\n",
              "    border: 2px solid var(--fill-color);\n",
              "    border-color: transparent;\n",
              "    border-bottom-color: var(--fill-color);\n",
              "    animation:\n",
              "      spin 1s steps(1) infinite;\n",
              "  }\n",
              "\n",
              "  @keyframes spin {\n",
              "    0% {\n",
              "      border-color: transparent;\n",
              "      border-bottom-color: var(--fill-color);\n",
              "      border-left-color: var(--fill-color);\n",
              "    }\n",
              "    20% {\n",
              "      border-color: transparent;\n",
              "      border-left-color: var(--fill-color);\n",
              "      border-top-color: var(--fill-color);\n",
              "    }\n",
              "    30% {\n",
              "      border-color: transparent;\n",
              "      border-left-color: var(--fill-color);\n",
              "      border-top-color: var(--fill-color);\n",
              "      border-right-color: var(--fill-color);\n",
              "    }\n",
              "    40% {\n",
              "      border-color: transparent;\n",
              "      border-right-color: var(--fill-color);\n",
              "      border-top-color: var(--fill-color);\n",
              "    }\n",
              "    60% {\n",
              "      border-color: transparent;\n",
              "      border-right-color: var(--fill-color);\n",
              "    }\n",
              "    80% {\n",
              "      border-color: transparent;\n",
              "      border-right-color: var(--fill-color);\n",
              "      border-bottom-color: var(--fill-color);\n",
              "    }\n",
              "    90% {\n",
              "      border-color: transparent;\n",
              "      border-bottom-color: var(--fill-color);\n",
              "    }\n",
              "  }\n",
              "</style>\n",
              "\n",
              "  <script>\n",
              "    async function quickchart(key) {\n",
              "      const quickchartButtonEl =\n",
              "        document.querySelector('#' + key + ' button');\n",
              "      quickchartButtonEl.disabled = true;  // To prevent multiple clicks.\n",
              "      quickchartButtonEl.classList.add('colab-df-spinner');\n",
              "      try {\n",
              "        const charts = await google.colab.kernel.invokeFunction(\n",
              "            'suggestCharts', [key], {});\n",
              "      } catch (error) {\n",
              "        console.error('Error during call to suggestCharts:', error);\n",
              "      }\n",
              "      quickchartButtonEl.classList.remove('colab-df-spinner');\n",
              "      quickchartButtonEl.classList.add('colab-df-quickchart-complete');\n",
              "    }\n",
              "    (() => {\n",
              "      let quickchartButtonEl =\n",
              "        document.querySelector('#df-4977b251-d2c5-4062-ab1c-8dfa1a734da7 button');\n",
              "      quickchartButtonEl.style.display =\n",
              "        google.colab.kernel.accessAllowed ? 'block' : 'none';\n",
              "    })();\n",
              "  </script>\n",
              "</div>\n",
              "\n",
              "    </div>\n",
              "  </div>\n"
            ],
            "application/vnd.google.colaboratory.intrinsic+json": {
              "type": "dataframe",
              "summary": "{\n  \"name\": \"pd\",\n  \"rows\": 4,\n  \"fields\": [\n    {\n      \"column\": \"Title\",\n      \"properties\": {\n        \"dtype\": \"category\",\n        \"num_unique_values\": 1,\n        \"samples\": [\n          \"RDX Boxing Gloves Men Women, Pro Training Sparring, Maya Hide Leather Muay Thai MMA Kickboxing, Adult Heavy Punching Bag Gloves Mitts Focus Pad Workout, Ventilated Palm\"\n        ],\n        \"semantic_type\": \"\",\n        \"description\": \"\"\n      }\n    },\n    {\n      \"column\": \"Price\",\n      \"properties\": {\n        \"dtype\": \"number\",\n        \"std\": 0.0,\n        \"min\": 35.97,\n        \"max\": 35.97,\n        \"num_unique_values\": 1,\n        \"samples\": [\n          35.97\n        ],\n        \"semantic_type\": \"\",\n        \"description\": \"\"\n      }\n    },\n    {\n      \"column\": \"Date\",\n      \"properties\": {\n        \"dtype\": \"object\",\n        \"num_unique_values\": 1,\n        \"samples\": [\n          \"2024-08-24\"\n        ],\n        \"semantic_type\": \"\",\n        \"description\": \"\"\n      }\n    }\n  ]\n}"
            }
          },
          "metadata": {},
          "execution_count": 21
        }
      ]
    }
  ]
}